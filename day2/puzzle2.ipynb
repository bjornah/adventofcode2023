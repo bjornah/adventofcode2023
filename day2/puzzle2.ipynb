{
 "cells": [
  {
   "cell_type": "code",
   "execution_count": 1,
   "metadata": {},
   "outputs": [],
   "source": [
    "import re\n",
    "from collections import ChainMap"
   ]
  },
  {
   "cell_type": "code",
   "execution_count": 2,
   "metadata": {},
   "outputs": [],
   "source": [
    "with open('puzzleInput.txt', 'r') as fo:\n",
    "    inputlist = [s.strip() for s in fo.readlines()]"
   ]
  },
  {
   "cell_type": "code",
   "execution_count": 5,
   "metadata": {},
   "outputs": [],
   "source": [
    "pattern = r'\\s*(\\d+)\\s(green|red|blue),*\\s*'\n",
    "pattern = re.compile(pattern)\n",
    "\n",
    "def match_nballs_color(pair):\n",
    "    match = pattern.match(pair)\n",
    "    return {match.group(2):int(match.group(1))}\n",
    "\n",
    "def clean_input(inputlist):\n",
    "    input_dict = {}\n",
    "    for line in inputlist:\n",
    "        number, line = line.split(':')\n",
    "        number = int(number.strip('Game '))\n",
    "        combinations = [s.strip().split(',') for s in line.split(';')]\n",
    "        combinations = [dict(ChainMap(*[match_nballs_color(pair) for pair in combination])) for combination in combinations]\n",
    "        input_dict[number] = combinations\n",
    "    return input_dict"
   ]
  },
  {
   "cell_type": "code",
   "execution_count": 6,
   "metadata": {},
   "outputs": [],
   "source": [
    "cleaned_input = clean_input(inputlist)"
   ]
  },
  {
   "cell_type": "code",
   "execution_count": 12,
   "metadata": {},
   "outputs": [],
   "source": [
    "def check_fewest_number(combinations):\n",
    "    min_dict = {'red': 0, 'green': 0, 'blue': 0}\n",
    "    for combination in combinations:\n",
    "        for key, val in combination.items():\n",
    "            if val > min_dict[key]:\n",
    "                min_dict[key] = val\n",
    "    return min_dict"
   ]
  },
  {
   "cell_type": "code",
   "execution_count": 25,
   "metadata": {},
   "outputs": [
    {
     "name": "stdout",
     "output_type": "stream",
     "text": [
      "66027\n"
     ]
    }
   ],
   "source": [
    "power_sum = 0\n",
    "for _, combinations in cleaned_input.items():\n",
    "    min_dict = check_fewest_number(combinations)\n",
    "    power = min_dict['green']*min_dict['red']*min_dict['blue'] # I'm sure there is some neat map reduce kind of action I could do here that would look great\n",
    "    power_sum+=power\n",
    "print(power_sum)"
   ]
  },
  {
   "cell_type": "code",
   "execution_count": null,
   "metadata": {},
   "outputs": [],
   "source": []
  }
 ],
 "metadata": {
  "kernelspec": {
   "display_name": "adventofcode1",
   "language": "python",
   "name": "python3"
  },
  "language_info": {
   "codemirror_mode": {
    "name": "ipython",
    "version": 3
   },
   "file_extension": ".py",
   "mimetype": "text/x-python",
   "name": "python",
   "nbconvert_exporter": "python",
   "pygments_lexer": "ipython3",
   "version": "3.10.13"
  }
 },
 "nbformat": 4,
 "nbformat_minor": 2
}
