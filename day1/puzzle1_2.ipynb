{
 "cells": [
  {
   "cell_type": "code",
   "execution_count": 3,
   "id": "8ead1624-4d68-4b1f-95f4-f2484ff11a64",
   "metadata": {},
   "outputs": [],
   "source": [
    "with open('stringfile.txt', 'r') as fo:\n",
    "    stringlist = fo.readlines()"
   ]
  },
  {
   "cell_type": "code",
   "execution_count": 34,
   "id": "307d6f43-1494-4e09-8b6d-a813c7b567c5",
   "metadata": {},
   "outputs": [],
   "source": [
    "stringlist = [s.strip() for s in stringlist]"
   ]
  },
  {
   "cell_type": "markdown",
   "id": "6c1d32e8-f3e1-4a1f-8ec6-e9171ab00181",
   "metadata": {},
   "source": [
    "## Puzzle 1"
   ]
  },
  {
   "cell_type": "code",
   "execution_count": 36,
   "id": "5092e6e0-d4e1-4f6a-95cd-a4e0f5640b85",
   "metadata": {},
   "outputs": [
    {
     "name": "stdout",
     "output_type": "stream",
     "text": [
      "55123\n"
     ]
    }
   ],
   "source": [
    "numbers = []\n",
    "for s in stringlist:\n",
    "    n1 = None\n",
    "    n2 = None\n",
    "    for c in s:\n",
    "        if c.isnumeric():\n",
    "            n1 = c\n",
    "            break\n",
    "    for c in s[::-1]:\n",
    "        if c.isnumeric():\n",
    "            n2 = c\n",
    "            break\n",
    "    if n1 and n2:\n",
    "        numbers.append(int(n1+n2))\n",
    "answer = sum(numbers)\n",
    "print(answer)"
   ]
  },
  {
   "cell_type": "markdown",
   "id": "69c0fdbf-dc0e-491e-9735-970df0481d55",
   "metadata": {},
   "source": [
    "## Puzzle 2"
   ]
  },
  {
   "cell_type": "code",
   "execution_count": 37,
   "id": "ed44395e-5070-414a-9312-d73b831ba50f",
   "metadata": {},
   "outputs": [],
   "source": [
    "list_of_string_numbers = [\n",
    "    'one',\n",
    "    'two',\n",
    "    'three',\n",
    "    'four',\n",
    "    'five',\n",
    "    'six',\n",
    "    'seven',\n",
    "    'eight',\n",
    "    'nine'\n",
    "]\n",
    "\n",
    "def check_for_string_number(string):\n",
    "    for i, number in enumerate(list_of_string_numbers):\n",
    "        if number in string:\n",
    "            return str(i+1)\n",
    "    return None"
   ]
  },
  {
   "cell_type": "code",
   "execution_count": 38,
   "id": "7cdca032-d450-4af1-ad0b-5dacea018844",
   "metadata": {},
   "outputs": [
    {
     "name": "stdout",
     "output_type": "stream",
     "text": [
      "55260\n"
     ]
    }
   ],
   "source": [
    "numbers = []\n",
    "for s in stringlist:\n",
    "    n1 = ''\n",
    "    n2 = ''\n",
    "    for c in s:\n",
    "        if not c.isnumeric():\n",
    "            n1+=c\n",
    "            maybenumber1 = check_for_string_number(n1)\n",
    "            if maybenumber1:\n",
    "                n1 = maybenumber1\n",
    "                break\n",
    "        else:\n",
    "            n1 = c\n",
    "            break\n",
    "    for c in s[::-1]:\n",
    "        if not c.isnumeric():\n",
    "            n2+=c\n",
    "            maybenumber2 = check_for_string_number(n2[::-1])\n",
    "            if maybenumber2:\n",
    "                n2 = maybenumber2\n",
    "                break   \n",
    "        else:\n",
    "            n2 = c\n",
    "            break\n",
    "    if n1 and n2:\n",
    "        numbers.append(int(n1+n2))\n",
    "answer = sum(numbers)\n",
    "print(answer)"
   ]
  },
  {
   "cell_type": "code",
   "execution_count": null,
   "id": "b795a4a3-4145-4e9d-b826-edbe149bb4e2",
   "metadata": {},
   "outputs": [],
   "source": []
  }
 ],
 "metadata": {
  "kernelspec": {
   "display_name": "Python 3 (ipykernel)",
   "language": "python",
   "name": "python3"
  },
  "language_info": {
   "codemirror_mode": {
    "name": "ipython",
    "version": 3
   },
   "file_extension": ".py",
   "mimetype": "text/x-python",
   "name": "python",
   "nbconvert_exporter": "python",
   "pygments_lexer": "ipython3",
   "version": "3.10.13"
  }
 },
 "nbformat": 4,
 "nbformat_minor": 5
}
